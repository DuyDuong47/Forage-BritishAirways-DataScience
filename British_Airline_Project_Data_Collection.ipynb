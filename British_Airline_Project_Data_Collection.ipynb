{
  "cells": [
    {
      "cell_type": "markdown",
      "metadata": {
        "id": "FER912kpiY1V"
      },
      "source": [
        "# **WEB SCRAPING TO GAIN COMPANY INSIGHTS**"
      ]
    },
    {
      "cell_type": "markdown",
      "metadata": {
        "id": "FgLbJMeLc9NC"
      },
      "source": [
        "# *TASK 1*\n",
        "\n",
        "\n",
        "---\n",
        "# Web scraping and analysis\n",
        "Use a package called BeautifulSoup to colect data from the web. Once I've collected data and saved it into a local .csv file I should start with analysis.\n",
        "\n",
        "# Scraping data from Skytax\n",
        "Link to collect: [https://www.airlinequality.com/airline-reviews/british-airways] Use Python and BeautifulSoup to collect all the links to the reviews and then to collect the text data on each of individual review links."
      ]
    },
    {
      "cell_type": "code",
      "execution_count": 1,
      "metadata": {
        "id": "iWqS5VpF-gxx"
      },
      "outputs": [],
      "source": [
        "# Import some libs\n",
        "\n",
        "import requests\n",
        "from bs4 import BeautifulSoup\n",
        "import numpy as np\n",
        "import pandas as pd"
      ]
    },
    {
      "cell_type": "code",
      "execution_count": 2,
      "metadata": {
        "id": "6l-JXptX-wEO"
      },
      "outputs": [],
      "source": [
        "# Create some lists to store data\n",
        "\n",
        "rating10 = []\n",
        "feedback = []\n",
        "aircraft = []\n",
        "travel_class = []\n",
        "travel_type = []\n",
        "route = []\n",
        "date_flown = []\n",
        "seat_comfort = []\n",
        "cabin_staff_service = []\n",
        "food_beverages = []\n",
        "entertainment = []\n",
        "wifi = []\n",
        "ground_service = []\n",
        "value_for_money = []\n",
        "recommend = []\n",
        "revId = []"
      ]
    },
    {
      "cell_type": "code",
      "execution_count": 3,
      "metadata": {
        "id": "D2Om3ZA5BTHJ"
      },
      "outputs": [],
      "source": [
        "# Function to collect data from web table\n",
        "\n",
        "def value_fetcher(soup):\n",
        "  aircraft.append(np.nan)\n",
        "  travel_class.append(np.nan)\n",
        "  travel_type.append(np.nan)\n",
        "  route.append(np.nan)\n",
        "  date_flown.append(np.nan)\n",
        "  seat_comfort.append(np.nan)\n",
        "  cabin_staff_service.append(np.nan)\n",
        "  food_beverages.append(np.nan)\n",
        "  entertainment.append(np.nan)\n",
        "  wifi.append(np.nan)\n",
        "  ground_service.append(np.nan)\n",
        "  value_for_money.append(np.nan)\n",
        "  recommend.append(np.nan)\n",
        "\n",
        "  for row in soup.find_all('tr'):\n",
        "    header = row.find('td', {'class': 'review-rating-header'}).text\n",
        "    value = row.find('td', {'class': 'review-value'})\n",
        "    if header == 'Aircraft':\n",
        "      aircraft[-1] = value.text\n",
        "    elif header == 'Type Of Traveller':\n",
        "      travel_type[-1] = value.text\n",
        "    elif header == 'Seat Type':\n",
        "      travel_class[-1] = value.text\n",
        "    elif header == 'Route':\n",
        "      route[-1] = value.text\n",
        "    elif header == 'Date Flown':\n",
        "      date_flown[-1] = value.text\n",
        "    elif header == 'Seat Comfort':\n",
        "      seat_comfort[-1] = len(row.find_all('span', {'class': 'star fill'}))\n",
        "    elif header == 'Cabin Staff Service':\n",
        "      cabin_staff_service[-1] = len(row.find_all('span', {'class': 'star fill'}))\n",
        "    elif header == 'Food & Beverages':\n",
        "      food_beverages[-1] = len(row.find_all('span', {'class': 'star fill'}))\n",
        "    elif header == 'Inflight Entertainment':\n",
        "      entertainment[-1] = len(row.find_all('span', {'class': 'star fill'}))\n",
        "    elif header == 'Ground Service':\n",
        "      ground_service[-1] = len(row.find_all('span', {'class': 'star fill'}))\n",
        "    elif header == 'Wifi & Connectivity':\n",
        "      wifi[-1] = len(row.find_all('span', {'class': 'star fill'}))\n",
        "    elif header == 'Value For Money':\n",
        "      value_for_money[-1] = len(row.find_all('span', {'class': 'star fill'}))\n",
        "    elif header == 'Recommended':\n",
        "      recommend[-1] = value.text\n"
      ]
    },
    {
      "cell_type": "code",
      "execution_count": 4,
      "metadata": {
        "id": "KFNBCnkUUPZS"
      },
      "outputs": [],
      "source": [
        "base_url = \"https://www.airlinequality.com/airline-reviews/british-airways\"\n",
        "pages = 30\n",
        "page_size = 100\n",
        "\n",
        "for i in range(1, pages + 1):\n",
        "  url = f'{base_url}/page/{i}/?sortby=post_date%3ADesc&pagesize={page_size}'\n",
        "  response = requests.get(url)\n",
        "  content = response.text\n",
        "  soup = BeautifulSoup(content, 'html.parser')\n",
        "  articles = soup.find_all('article', {'itemprop': 'review'})\n",
        "  for article in articles:\n",
        "    rating = article.find('div', {'itemprop': 'reviewRating'})\n",
        "    rating = rating.find('span', {'itemprop': 'ratingValue'}).text if rating.find('span', {'itemprop': 'ratingValue'}) else 'NaN'\n",
        "    rating10.append(rating)\n",
        "    anchor = article.find('div', {'class': 'body'})\n",
        "    id = anchor.attrs['id']\n",
        "    id = id.replace('anchor', '', 1)\n",
        "    revId.append(id)\n",
        "    div = article.find('div', {'class': 'tc_mobile'})\n",
        "    contents = div.find('div', {'class': 'text_content'}).text\n",
        "    feedback.append(contents)\n",
        "    table = div.find('table', {'class': 'review-ratings'})\n",
        "    value_fetcher(table)"
      ]
    },
    {
      "cell_type": "code",
      "execution_count": 5,
      "metadata": {
        "id": "plrRId01Zynf"
      },
      "outputs": [],
      "source": [
        "# Creating DataFrame from a dictionary of list\n",
        "data = {\n",
        "    'ReviewId': revId,\n",
        "    'Rating10': rating10,\n",
        "    'Review': feedback,\n",
        "    'Aircraft': aircraft,\n",
        "    'Travel_Type': travel_type,\n",
        "    'Travel_Class': travel_class,\n",
        "    'Route': route,\n",
        "    'Date_flown': date_flown,\n",
        "    'Seat_comfort': seat_comfort,\n",
        "    'Cabin_staff_service': cabin_staff_service,\n",
        "    'Food_beverages': food_beverages,\n",
        "    'Inflight_entertainment': entertainment,\n",
        "    'Wifi_connectivity': wifi,\n",
        "    'Ground_service': ground_service,\n",
        "    'Value_for_money': value_for_money,\n",
        "    'Recommend': recommend\n",
        "    }"
      ]
    },
    {
      "cell_type": "code",
      "execution_count": 6,
      "metadata": {
        "id": "4ovVEumXcQYC"
      },
      "outputs": [
        {
          "data": {
            "text/html": [
              "<div>\n",
              "<style scoped>\n",
              "    .dataframe tbody tr th:only-of-type {\n",
              "        vertical-align: middle;\n",
              "    }\n",
              "\n",
              "    .dataframe tbody tr th {\n",
              "        vertical-align: top;\n",
              "    }\n",
              "\n",
              "    .dataframe thead th {\n",
              "        text-align: right;\n",
              "    }\n",
              "</style>\n",
              "<table border=\"1\" class=\"dataframe\">\n",
              "  <thead>\n",
              "    <tr style=\"text-align: right;\">\n",
              "      <th></th>\n",
              "      <th>ReviewId</th>\n",
              "      <th>Rating10</th>\n",
              "      <th>Review</th>\n",
              "      <th>Aircraft</th>\n",
              "      <th>Travel_Type</th>\n",
              "      <th>Travel_Class</th>\n",
              "      <th>Route</th>\n",
              "      <th>Date_flown</th>\n",
              "      <th>Seat_comfort</th>\n",
              "      <th>Cabin_staff_service</th>\n",
              "      <th>Food_beverages</th>\n",
              "      <th>Inflight_entertainment</th>\n",
              "      <th>Wifi_connectivity</th>\n",
              "      <th>Ground_service</th>\n",
              "      <th>Value_for_money</th>\n",
              "      <th>Recommend</th>\n",
              "    </tr>\n",
              "  </thead>\n",
              "  <tbody>\n",
              "    <tr>\n",
              "      <th>0</th>\n",
              "      <td>862044</td>\n",
              "      <td>4</td>\n",
              "      <td>✅ Trip Verified |  My family and I have flown ...</td>\n",
              "      <td>Boeing 777</td>\n",
              "      <td>Couple Leisure</td>\n",
              "      <td>Premium Economy</td>\n",
              "      <td>Chennai to London</td>\n",
              "      <td>July 2023</td>\n",
              "      <td>3.0</td>\n",
              "      <td>2.0</td>\n",
              "      <td>1.0</td>\n",
              "      <td>1.0</td>\n",
              "      <td>NaN</td>\n",
              "      <td>4.0</td>\n",
              "      <td>1</td>\n",
              "      <td>no</td>\n",
              "    </tr>\n",
              "    <tr>\n",
              "      <th>1</th>\n",
              "      <td>862019</td>\n",
              "      <td>2</td>\n",
              "      <td>✅ Trip Verified |  This has been by far the wo...</td>\n",
              "      <td>A321neo</td>\n",
              "      <td>Couple Leisure</td>\n",
              "      <td>Economy Class</td>\n",
              "      <td>Istanbul to London</td>\n",
              "      <td>July 2023</td>\n",
              "      <td>2.0</td>\n",
              "      <td>2.0</td>\n",
              "      <td>NaN</td>\n",
              "      <td>NaN</td>\n",
              "      <td>NaN</td>\n",
              "      <td>1.0</td>\n",
              "      <td>1</td>\n",
              "      <td>no</td>\n",
              "    </tr>\n",
              "    <tr>\n",
              "      <th>2</th>\n",
              "      <td>861892</td>\n",
              "      <td>2</td>\n",
              "      <td>✅ Trip Verified |  In Nov 2022 I booked and pa...</td>\n",
              "      <td>NaN</td>\n",
              "      <td>Solo Leisure</td>\n",
              "      <td>Economy Class</td>\n",
              "      <td>London to Edinburgh</td>\n",
              "      <td>November 2022</td>\n",
              "      <td>2.0</td>\n",
              "      <td>5.0</td>\n",
              "      <td>3.0</td>\n",
              "      <td>3.0</td>\n",
              "      <td>NaN</td>\n",
              "      <td>1.0</td>\n",
              "      <td>2</td>\n",
              "      <td>no</td>\n",
              "    </tr>\n",
              "    <tr>\n",
              "      <th>3</th>\n",
              "      <td>861589</td>\n",
              "      <td>4</td>\n",
              "      <td>Not Verified | BA is not treating its premium ...</td>\n",
              "      <td>Boeing 777 -200</td>\n",
              "      <td>Family Leisure</td>\n",
              "      <td>Premium Economy</td>\n",
              "      <td>Kingston to London</td>\n",
              "      <td>June 2023</td>\n",
              "      <td>5.0</td>\n",
              "      <td>4.0</td>\n",
              "      <td>4.0</td>\n",
              "      <td>3.0</td>\n",
              "      <td>NaN</td>\n",
              "      <td>3.0</td>\n",
              "      <td>3</td>\n",
              "      <td>no</td>\n",
              "    </tr>\n",
              "    <tr>\n",
              "      <th>4</th>\n",
              "      <td>861382</td>\n",
              "      <td>1</td>\n",
              "      <td>✅ Trip Verified |  24 hours before our departu...</td>\n",
              "      <td>Boeing 777-200</td>\n",
              "      <td>Couple Leisure</td>\n",
              "      <td>Economy Class</td>\n",
              "      <td>London Heathrow to Cape Town</td>\n",
              "      <td>June 2023</td>\n",
              "      <td>1.0</td>\n",
              "      <td>3.0</td>\n",
              "      <td>1.0</td>\n",
              "      <td>3.0</td>\n",
              "      <td>NaN</td>\n",
              "      <td>3.0</td>\n",
              "      <td>2</td>\n",
              "      <td>no</td>\n",
              "    </tr>\n",
              "  </tbody>\n",
              "</table>\n",
              "</div>"
            ],
            "text/plain": [
              "  ReviewId Rating10                                             Review   \n",
              "0   862044        4  ✅ Trip Verified |  My family and I have flown ...  \\\n",
              "1   862019        2  ✅ Trip Verified |  This has been by far the wo...   \n",
              "2   861892        2  ✅ Trip Verified |  In Nov 2022 I booked and pa...   \n",
              "3   861589        4  Not Verified | BA is not treating its premium ...   \n",
              "4   861382        1  ✅ Trip Verified |  24 hours before our departu...   \n",
              "\n",
              "          Aircraft     Travel_Type     Travel_Class   \n",
              "0       Boeing 777  Couple Leisure  Premium Economy  \\\n",
              "1          A321neo  Couple Leisure    Economy Class   \n",
              "2              NaN    Solo Leisure    Economy Class   \n",
              "3  Boeing 777 -200  Family Leisure  Premium Economy   \n",
              "4   Boeing 777-200  Couple Leisure    Economy Class   \n",
              "\n",
              "                          Route     Date_flown  Seat_comfort   \n",
              "0            Chennai to London       July 2023           3.0  \\\n",
              "1            Istanbul to London      July 2023           2.0   \n",
              "2           London to Edinburgh  November 2022           2.0   \n",
              "3            Kingston to London      June 2023           5.0   \n",
              "4  London Heathrow to Cape Town      June 2023           1.0   \n",
              "\n",
              "   Cabin_staff_service  Food_beverages  Inflight_entertainment   \n",
              "0                  2.0             1.0                     1.0  \\\n",
              "1                  2.0             NaN                     NaN   \n",
              "2                  5.0             3.0                     3.0   \n",
              "3                  4.0             4.0                     3.0   \n",
              "4                  3.0             1.0                     3.0   \n",
              "\n",
              "   Wifi_connectivity  Ground_service  Value_for_money Recommend  \n",
              "0                NaN             4.0                1        no  \n",
              "1                NaN             1.0                1        no  \n",
              "2                NaN             1.0                2        no  \n",
              "3                NaN             3.0                3        no  \n",
              "4                NaN             3.0                2        no  "
            ]
          },
          "execution_count": 6,
          "metadata": {},
          "output_type": "execute_result"
        }
      ],
      "source": [
        "df = pd.DataFrame(data)\n",
        "df.head()"
      ]
    },
    {
      "cell_type": "code",
      "execution_count": 7,
      "metadata": {
        "id": "qvGjZWnPkXHj"
      },
      "outputs": [
        {
          "data": {
            "text/plain": [
              "(3000, 16)"
            ]
          },
          "execution_count": 7,
          "metadata": {},
          "output_type": "execute_result"
        }
      ],
      "source": [
        "df.shape"
      ]
    },
    {
      "cell_type": "code",
      "execution_count": 8,
      "metadata": {
        "id": "PJ1RMoCmlbV3"
      },
      "outputs": [],
      "source": [
        "# Saving DataFrame to CSV file\n",
        "df.to_csv('British_Airway.csv', index = False)"
      ]
    }
  ],
  "metadata": {
    "colab": {
      "provenance": []
    },
    "kernelspec": {
      "display_name": "Python 3",
      "name": "python3"
    },
    "language_info": {
      "codemirror_mode": {
        "name": "ipython",
        "version": 3
      },
      "file_extension": ".py",
      "mimetype": "text/x-python",
      "name": "python",
      "nbconvert_exporter": "python",
      "pygments_lexer": "ipython3",
      "version": "3.11.2"
    }
  },
  "nbformat": 4,
  "nbformat_minor": 0
}
